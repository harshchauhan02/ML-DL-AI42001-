{
 "cells": [
  {
   "cell_type": "markdown",
   "id": "3ad1deb5",
   "metadata": {},
   "source": [
    "### Get all imports"
   ]
  },
  {
   "cell_type": "code",
   "execution_count": 1,
   "id": "ce070dcb",
   "metadata": {},
   "outputs": [],
   "source": [
    "import os\n",
    "import random\n",
    "import numpy as np\n",
    "import torch\n",
    "import numpy as np\n",
    "from torchvision import datasets, transforms\n",
    "import math\n",
    "from tqdm.notebook import tqdm\n",
    "from sklearn.metrics import accuracy_score"
   ]
  },
  {
   "cell_type": "code",
   "execution_count": 2,
   "id": "caefb555",
   "metadata": {},
   "outputs": [
    {
     "name": "stdout",
     "output_type": "stream",
     "text": [
      "Random seed set as 27\n"
     ]
    }
   ],
   "source": [
    "def set_seed(seed=27):\n",
    "    np.random.seed(seed)\n",
    "    random.seed(seed)\n",
    "    torch.manual_seed(seed)\n",
    "    torch.cuda.manual_seed(seed)\n",
    "    # When running on the CuDNN backend, two further options must be set\n",
    "    torch.backends.cudnn.deterministic = True\n",
    "    torch.backends.cudnn.benchmark = False\n",
    "    # Set a fixed value for the hash seed\n",
    "    os.environ[\"PYTHONHASHSEED\"] = str(seed)\n",
    "    print(f\"Random seed set as {seed}\")\n",
    "\n",
    "# Create a device variable which will be used to shift model and data to GPU if available\n",
    "device = torch.device(\"cuda\" if torch.cuda.is_available() else \"cpu\")\n",
    "set_seed(seed=27)"
   ]
  },
  {
   "cell_type": "markdown",
   "id": "2a6851c3",
   "metadata": {},
   "source": [
    "### Download the data and create a pytorch dataset with necessary augmentations"
   ]
  },
  {
   "cell_type": "code",
   "execution_count": 3,
   "id": "8e1e3f30",
   "metadata": {},
   "outputs": [],
   "source": [
    "train_set = datasets.FashionMNIST(root='data/', train=True, transform=transforms.Compose([\n",
    "    transforms.RandomHorizontalFlip(),\n",
    "    transforms.ToTensor(),\n",
    "    transforms.Normalize((0.286), (0.3202)),\n",
    "    transforms.Lambda(torch.flatten)\n",
    "]), download=True)\n",
    "# Load the validation set\n",
    "val_set = datasets.FashionMNIST(root='data/', train=False, transform=transforms.Compose([\n",
    "    transforms.ToTensor(),\n",
    "    transforms.Normalize((0.286), (0.3202)),\n",
    "    transforms.Lambda(torch.flatten)\n",
    "]))\n",
    "\n",
    "batch_size = 512\n",
    "dataloader_train = torch.utils.data.DataLoader(train_set, batch_size=batch_size, shuffle=True, num_workers=0)\n",
    "dataloader_val = torch.utils.data.DataLoader(val_set, batch_size=batch_size, shuffle=True, num_workers=0)"
   ]
  },
  {
   "cell_type": "markdown",
   "id": "1801c209",
   "metadata": {},
   "source": [
    "### Create a Feed Forward Neural Network a.k.a Multi-Layer Perceptron (MLP)"
   ]
  },
  {
   "cell_type": "code",
   "execution_count": 4,
   "id": "c025293d",
   "metadata": {},
   "outputs": [],
   "source": [
    "class FFN(torch.nn.Module):\n",
    "    def __init__(self):\n",
    "        super().__init__()\n",
    "        # Define the layers\n",
    "        self.layers = torch.nn.Sequential(*[torch.nn.Linear(784, 512),\n",
    "                                           torch.nn.Linear(512, 256),\n",
    "                                           torch.nn.Linear(256, 64),\n",
    "                                           torch.nn.Linear(64, 10)])\n",
    "        # Define the corresponding masks\n",
    "        self.masks = torch.nn.ParameterList([torch.nn.Parameter(torch.Tensor(torch.ones(512, 784)), requires_grad=False),\n",
    "                                             torch.nn.Parameter(torch.Tensor(torch.ones(256, 512)), requires_grad=False),\n",
    "                                             torch.nn.Parameter(torch.Tensor(torch.ones(64, 256)), requires_grad=False),\n",
    "                                             torch.nn.Parameter(torch.Tensor(torch.ones(10, 64)), requires_grad=False)\n",
    "                                            ])\n",
    "    \n",
    "    def forward(self, x):\n",
    "        # First multiply each layer's weights with its corresponding mask\n",
    "        with torch.no_grad():\n",
    "            for i in range(len(self.layers)):\n",
    "                self.layers[i].weight.copy_(self.layers[i].weight.data * self.masks[i])\n",
    "        # Now perform forward pass\n",
    "        for i in range(len(self.layers)):\n",
    "            if i < len(self.layers)-1:\n",
    "                x = torch.nn.ReLU()(self.layers[i](x))\n",
    "            else:\n",
    "                return self.layers[i](x)\n",
    "        return x"
   ]
  },
  {
   "cell_type": "markdown",
   "id": "fc8806b6",
   "metadata": {},
   "source": [
    "### Model training routine for each round"
   ]
  },
  {
   "cell_type": "code",
   "execution_count": 5,
   "id": "9ac98ac4",
   "metadata": {},
   "outputs": [],
   "source": [
    "def train_model(epochs, dataloader, device, model, optimizer, loss_function):\n",
    "    # Set model to training mode in order to unfreeze all layers and allow gradient propagation\n",
    "    model.train()\n",
    "    # These two lists will be used to store average loss and accuracy for each epoch\n",
    "    total_loss, acc = list(), list()\n",
    "    # Now write out the training procedure\n",
    "    for epoch in range(epochs):\n",
    "        print(\"Epoch:\", epoch+1)\n",
    "        # Each batch produces a loss, predictions and target\n",
    "        batch_loss, batch_preds, batch_target = 0, list(), list()\n",
    "        # For each batch, train the model\n",
    "        for x, y in tqdm(dataloader, total=len(dataloader)):\n",
    "            # Make sure that data is on the same device as the model\n",
    "            x, y = x.to(device), y.to(device)\n",
    "            # Remove all previous gradients\n",
    "            optimizer.zero_grad()\n",
    "            # Get predictions by performing a forward pass\n",
    "            preds = model.forward(x.float())\n",
    "            # Calculate error\n",
    "            loss = loss_function(preds, y.to(torch.int64))\n",
    "            # Calculate all the gradients for each layer\n",
    "            loss.backward()\n",
    "            # Finall, update the weights\n",
    "            optimizer.step()\n",
    "            # Save the loss\n",
    "            batch_loss+= loss.item()\n",
    "            # Save the predictions and target\n",
    "            batch_preds.extend(np.argmax(preds.cpu().detach().numpy(), axis=1))\n",
    "            batch_target.extend(y.cpu().detach().numpy())\n",
    "        # Calculate average loss\n",
    "        total_loss.append(batch_loss/len(dataloader))\n",
    "        # Calculate accuracy for this epoch\n",
    "        acc.append(accuracy_score(batch_target, batch_preds))\n",
    "        print(\"Loss:\", total_loss[-1], \"\\tAcc:\", acc[-1])\n",
    "    return model, total_loss, acc\n",
    "\n",
    "def test_model(dataloader, device, model):\n",
    "    # Set model to eval mode in order to freeze all layers so that no parameter gets updated during testing\n",
    "    model.eval()\n",
    "    # Each batch produces a loss, predictions and target\n",
    "    batch_preds, batch_target = list(), list()\n",
    "    # For each batch, train the model\n",
    "    for x, y in tqdm(dataloader, total=len(dataloader)):\n",
    "        # Make sure that data is on the same device as the model\n",
    "        x, y = x.to(device), y.to(device)\n",
    "        preds = model.forward(x.float())\n",
    "        # Save the predictions and target\n",
    "        batch_preds.extend(np.argmax(preds.cpu().detach().numpy(), axis=1))\n",
    "        batch_target.extend(y.cpu().detach().numpy())\n",
    "    return accuracy_score(batch_target, batch_preds)"
   ]
  },
  {
   "cell_type": "markdown",
   "id": "0e9566c4",
   "metadata": {},
   "source": [
    "### Now perform model training"
   ]
  },
  {
   "cell_type": "code",
   "execution_count": 6,
   "id": "c55329e4",
   "metadata": {
    "scrolled": true
   },
   "outputs": [
    {
     "name": "stdout",
     "output_type": "stream",
     "text": [
      "\n",
      "\n",
      "\n",
      "ROUND 1 Started\n",
      "----------------------\n",
      "Epoch: 1\n"
     ]
    },
    {
     "data": {
      "application/vnd.jupyter.widget-view+json": {
       "model_id": "3d23daeae6c2406bbbd9776144a58fd5",
       "version_major": 2,
       "version_minor": 0
      },
      "text/plain": [
       "  0%|          | 0/118 [00:00<?, ?it/s]"
      ]
     },
     "metadata": {},
     "output_type": "display_data"
    },
    {
     "name": "stdout",
     "output_type": "stream",
     "text": [
      "Loss: 0.5849229653002852 \tAcc: 0.7824166666666666\n",
      "Epoch: 2\n"
     ]
    },
    {
     "data": {
      "application/vnd.jupyter.widget-view+json": {
       "model_id": "0a413ac0eb004145ae00a407853542fb",
       "version_major": 2,
       "version_minor": 0
      },
      "text/plain": [
       "  0%|          | 0/118 [00:00<?, ?it/s]"
      ]
     },
     "metadata": {},
     "output_type": "display_data"
    },
    {
     "name": "stdout",
     "output_type": "stream",
     "text": [
      "Loss: 0.3744929000987845 \tAcc: 0.8630833333333333\n",
      "Epoch: 3\n"
     ]
    },
    {
     "data": {
      "application/vnd.jupyter.widget-view+json": {
       "model_id": "4ecc9d196a7242c5afef949f00c075df",
       "version_major": 2,
       "version_minor": 0
      },
      "text/plain": [
       "  0%|          | 0/118 [00:00<?, ?it/s]"
      ]
     },
     "metadata": {},
     "output_type": "display_data"
    },
    {
     "name": "stdout",
     "output_type": "stream",
     "text": [
      "Loss: 0.3394818843926414 \tAcc: 0.87505\n",
      "Epoch: 4\n"
     ]
    },
    {
     "data": {
      "application/vnd.jupyter.widget-view+json": {
       "model_id": "e3e62009fcdb432bb06975fa8cfa901b",
       "version_major": 2,
       "version_minor": 0
      },
      "text/plain": [
       "  0%|          | 0/118 [00:00<?, ?it/s]"
      ]
     },
     "metadata": {},
     "output_type": "display_data"
    },
    {
     "name": "stdout",
     "output_type": "stream",
     "text": [
      "Loss: 0.318255076090158 \tAcc: 0.8822\n",
      "Epoch: 5\n"
     ]
    },
    {
     "data": {
      "application/vnd.jupyter.widget-view+json": {
       "model_id": "73b4079336914b29a5b2ad0d0a958222",
       "version_major": 2,
       "version_minor": 0
      },
      "text/plain": [
       "  0%|          | 0/118 [00:00<?, ?it/s]"
      ]
     },
     "metadata": {},
     "output_type": "display_data"
    },
    {
     "name": "stdout",
     "output_type": "stream",
     "text": [
      "Loss: 0.30109154786598885 \tAcc: 0.88715\n"
     ]
    },
    {
     "data": {
      "application/vnd.jupyter.widget-view+json": {
       "model_id": "95f77a5f4e8947479db7bc9251fe055c",
       "version_major": 2,
       "version_minor": 0
      },
      "text/plain": [
       "  0%|          | 0/20 [00:00<?, ?it/s]"
      ]
     },
     "metadata": {},
     "output_type": "display_data"
    },
    {
     "name": "stdout",
     "output_type": "stream",
     "text": [
      "Test Accuracy before pruning: 0.8613\n"
     ]
    },
    {
     "data": {
      "application/vnd.jupyter.widget-view+json": {
       "model_id": "98175d3661f24097b7d171fec076c5e2",
       "version_major": 2,
       "version_minor": 0
      },
      "text/plain": [
       "  0%|          | 0/20 [00:00<?, ?it/s]"
      ]
     },
     "metadata": {},
     "output_type": "display_data"
    },
    {
     "name": "stdout",
     "output_type": "stream",
     "text": [
      "Test Accuracy after pruning but no retraining: 0.8614\n",
      "\n",
      "\n",
      "\n",
      "ROUND 2 Started\n",
      "----------------------\n",
      "Epoch: 1\n"
     ]
    },
    {
     "data": {
      "application/vnd.jupyter.widget-view+json": {
       "model_id": "d1e57188084e416aa327cc8cd462b720",
       "version_major": 2,
       "version_minor": 0
      },
      "text/plain": [
       "  0%|          | 0/118 [00:00<?, ?it/s]"
      ]
     },
     "metadata": {},
     "output_type": "display_data"
    },
    {
     "name": "stdout",
     "output_type": "stream",
     "text": [
      "Loss: 0.2881379944540687 \tAcc: 0.89175\n",
      "Epoch: 2\n"
     ]
    },
    {
     "data": {
      "application/vnd.jupyter.widget-view+json": {
       "model_id": "baabe930f0d14048bb73c0a86153a05d",
       "version_major": 2,
       "version_minor": 0
      },
      "text/plain": [
       "  0%|          | 0/118 [00:00<?, ?it/s]"
      ]
     },
     "metadata": {},
     "output_type": "display_data"
    },
    {
     "name": "stdout",
     "output_type": "stream",
     "text": [
      "Loss: 0.275548414911254 \tAcc: 0.8960333333333333\n",
      "Epoch: 3\n"
     ]
    },
    {
     "data": {
      "application/vnd.jupyter.widget-view+json": {
       "model_id": "2862bb91c4fe4616b802c6e6ea50c9f2",
       "version_major": 2,
       "version_minor": 0
      },
      "text/plain": [
       "  0%|          | 0/118 [00:00<?, ?it/s]"
      ]
     },
     "metadata": {},
     "output_type": "display_data"
    },
    {
     "name": "stdout",
     "output_type": "stream",
     "text": [
      "Loss: 0.26208930235292954 \tAcc: 0.90085\n",
      "Epoch: 4\n"
     ]
    },
    {
     "data": {
      "application/vnd.jupyter.widget-view+json": {
       "model_id": "ae68c755a9a34d7299992c33e2b94ac7",
       "version_major": 2,
       "version_minor": 0
      },
      "text/plain": [
       "  0%|          | 0/118 [00:00<?, ?it/s]"
      ]
     },
     "metadata": {},
     "output_type": "display_data"
    },
    {
     "name": "stdout",
     "output_type": "stream",
     "text": [
      "Loss: 0.25093760189868636 \tAcc: 0.9055166666666666\n",
      "Epoch: 5\n"
     ]
    },
    {
     "data": {
      "application/vnd.jupyter.widget-view+json": {
       "model_id": "57858c378f254ae3a4dbb25cff58500e",
       "version_major": 2,
       "version_minor": 0
      },
      "text/plain": [
       "  0%|          | 0/118 [00:00<?, ?it/s]"
      ]
     },
     "metadata": {},
     "output_type": "display_data"
    },
    {
     "name": "stdout",
     "output_type": "stream",
     "text": [
      "Loss: 0.24178819370976948 \tAcc: 0.9075333333333333\n"
     ]
    },
    {
     "data": {
      "application/vnd.jupyter.widget-view+json": {
       "model_id": "41e7c2267c4a4052b75b828f982db3ea",
       "version_major": 2,
       "version_minor": 0
      },
      "text/plain": [
       "  0%|          | 0/20 [00:00<?, ?it/s]"
      ]
     },
     "metadata": {},
     "output_type": "display_data"
    },
    {
     "name": "stdout",
     "output_type": "stream",
     "text": [
      "Test Accuracy after pruning and retraining: 0.8842\n"
     ]
    },
    {
     "data": {
      "application/vnd.jupyter.widget-view+json": {
       "model_id": "5c53db6aeae34e34b1dc08f2440bb05a",
       "version_major": 2,
       "version_minor": 0
      },
      "text/plain": [
       "  0%|          | 0/20 [00:00<?, ?it/s]"
      ]
     },
     "metadata": {},
     "output_type": "display_data"
    },
    {
     "name": "stdout",
     "output_type": "stream",
     "text": [
      "Test Accuracy after pruning but no retraining: 0.8842\n",
      "\n",
      "\n",
      "\n",
      "ROUND 3 Started\n",
      "----------------------\n",
      "Epoch: 1\n"
     ]
    },
    {
     "data": {
      "application/vnd.jupyter.widget-view+json": {
       "model_id": "0312def5aa114117982101764b7c2827",
       "version_major": 2,
       "version_minor": 0
      },
      "text/plain": [
       "  0%|          | 0/118 [00:00<?, ?it/s]"
      ]
     },
     "metadata": {},
     "output_type": "display_data"
    },
    {
     "name": "stdout",
     "output_type": "stream",
     "text": [
      "Loss: 0.23880799645084447 \tAcc: 0.9103166666666667\n",
      "Epoch: 2\n"
     ]
    },
    {
     "data": {
      "application/vnd.jupyter.widget-view+json": {
       "model_id": "75c4b5c3afc24fa28086f3da1d96406b",
       "version_major": 2,
       "version_minor": 0
      },
      "text/plain": [
       "  0%|          | 0/118 [00:00<?, ?it/s]"
      ]
     },
     "metadata": {},
     "output_type": "display_data"
    },
    {
     "name": "stdout",
     "output_type": "stream",
     "text": [
      "Loss: 0.22637698370016227 \tAcc: 0.91375\n",
      "Epoch: 3\n"
     ]
    },
    {
     "data": {
      "application/vnd.jupyter.widget-view+json": {
       "model_id": "e12b6eac56fe4dad928e4d54664c7cde",
       "version_major": 2,
       "version_minor": 0
      },
      "text/plain": [
       "  0%|          | 0/118 [00:00<?, ?it/s]"
      ]
     },
     "metadata": {},
     "output_type": "display_data"
    },
    {
     "name": "stdout",
     "output_type": "stream",
     "text": [
      "Loss: 0.21475059766385515 \tAcc: 0.91865\n",
      "Epoch: 4\n"
     ]
    },
    {
     "data": {
      "application/vnd.jupyter.widget-view+json": {
       "model_id": "b0072722fb6042e29281631e81488d50",
       "version_major": 2,
       "version_minor": 0
      },
      "text/plain": [
       "  0%|          | 0/118 [00:00<?, ?it/s]"
      ]
     },
     "metadata": {},
     "output_type": "display_data"
    },
    {
     "name": "stdout",
     "output_type": "stream",
     "text": [
      "Loss: 0.21472841791682323 \tAcc: 0.9182666666666667\n",
      "Epoch: 5\n"
     ]
    },
    {
     "data": {
      "application/vnd.jupyter.widget-view+json": {
       "model_id": "df4dd0af7dbd49d58faf438c5ad4195c",
       "version_major": 2,
       "version_minor": 0
      },
      "text/plain": [
       "  0%|          | 0/118 [00:00<?, ?it/s]"
      ]
     },
     "metadata": {},
     "output_type": "display_data"
    },
    {
     "name": "stdout",
     "output_type": "stream",
     "text": [
      "Loss: 0.20547987672231965 \tAcc: 0.9219833333333334\n"
     ]
    },
    {
     "data": {
      "application/vnd.jupyter.widget-view+json": {
       "model_id": "08183e538ba94f9197931a5eac5b3328",
       "version_major": 2,
       "version_minor": 0
      },
      "text/plain": [
       "  0%|          | 0/20 [00:00<?, ?it/s]"
      ]
     },
     "metadata": {},
     "output_type": "display_data"
    },
    {
     "name": "stdout",
     "output_type": "stream",
     "text": [
      "Test Accuracy after pruning and retraining: 0.8884\n"
     ]
    },
    {
     "data": {
      "application/vnd.jupyter.widget-view+json": {
       "model_id": "d9b1f1b38492454c98e063c4c330562c",
       "version_major": 2,
       "version_minor": 0
      },
      "text/plain": [
       "  0%|          | 0/20 [00:00<?, ?it/s]"
      ]
     },
     "metadata": {},
     "output_type": "display_data"
    },
    {
     "name": "stdout",
     "output_type": "stream",
     "text": [
      "Test Accuracy after pruning but no retraining: 0.8882\n",
      "\n",
      "\n",
      "\n",
      "ROUND 4 Started\n",
      "----------------------\n",
      "Epoch: 1\n"
     ]
    },
    {
     "data": {
      "application/vnd.jupyter.widget-view+json": {
       "model_id": "c8d6d2a60043424c8beb0f3966db0822",
       "version_major": 2,
       "version_minor": 0
      },
      "text/plain": [
       "  0%|          | 0/118 [00:00<?, ?it/s]"
      ]
     },
     "metadata": {},
     "output_type": "display_data"
    },
    {
     "name": "stdout",
     "output_type": "stream",
     "text": [
      "Loss: 0.1974581755318884 \tAcc: 0.9246666666666666\n",
      "Epoch: 2\n"
     ]
    },
    {
     "data": {
      "application/vnd.jupyter.widget-view+json": {
       "model_id": "09d803bafe7543e68110f48f1101e22b",
       "version_major": 2,
       "version_minor": 0
      },
      "text/plain": [
       "  0%|          | 0/118 [00:00<?, ?it/s]"
      ]
     },
     "metadata": {},
     "output_type": "display_data"
    },
    {
     "name": "stdout",
     "output_type": "stream",
     "text": [
      "Loss: 0.19147798772585595 \tAcc: 0.9276\n",
      "Epoch: 3\n"
     ]
    },
    {
     "data": {
      "application/vnd.jupyter.widget-view+json": {
       "model_id": "7dc301c8d5fa4ad59c81e698dd169932",
       "version_major": 2,
       "version_minor": 0
      },
      "text/plain": [
       "  0%|          | 0/118 [00:00<?, ?it/s]"
      ]
     },
     "metadata": {},
     "output_type": "display_data"
    },
    {
     "name": "stdout",
     "output_type": "stream",
     "text": [
      "Loss: 0.18614544252217827 \tAcc: 0.92965\n",
      "Epoch: 4\n"
     ]
    },
    {
     "data": {
      "application/vnd.jupyter.widget-view+json": {
       "model_id": "b6a31258adce4437b786e91a046171da",
       "version_major": 2,
       "version_minor": 0
      },
      "text/plain": [
       "  0%|          | 0/118 [00:00<?, ?it/s]"
      ]
     },
     "metadata": {},
     "output_type": "display_data"
    },
    {
     "name": "stdout",
     "output_type": "stream",
     "text": [
      "Loss: 0.18393493342702671 \tAcc: 0.9303666666666667\n",
      "Epoch: 5\n"
     ]
    },
    {
     "data": {
      "application/vnd.jupyter.widget-view+json": {
       "model_id": "687036ce63044ae59e1c9c59408d8d8b",
       "version_major": 2,
       "version_minor": 0
      },
      "text/plain": [
       "  0%|          | 0/118 [00:00<?, ?it/s]"
      ]
     },
     "metadata": {},
     "output_type": "display_data"
    },
    {
     "name": "stdout",
     "output_type": "stream",
     "text": [
      "Loss: 0.18539869311754986 \tAcc: 0.93015\n"
     ]
    },
    {
     "data": {
      "application/vnd.jupyter.widget-view+json": {
       "model_id": "7ab882f8756b46cab738bcf7aba9d2db",
       "version_major": 2,
       "version_minor": 0
      },
      "text/plain": [
       "  0%|          | 0/20 [00:00<?, ?it/s]"
      ]
     },
     "metadata": {},
     "output_type": "display_data"
    },
    {
     "name": "stdout",
     "output_type": "stream",
     "text": [
      "Test Accuracy after pruning and retraining: 0.8924\n"
     ]
    },
    {
     "data": {
      "application/vnd.jupyter.widget-view+json": {
       "model_id": "d61bf600749c401da1fe4a8c47eb6e21",
       "version_major": 2,
       "version_minor": 0
      },
      "text/plain": [
       "  0%|          | 0/20 [00:00<?, ?it/s]"
      ]
     },
     "metadata": {},
     "output_type": "display_data"
    },
    {
     "name": "stdout",
     "output_type": "stream",
     "text": [
      "Test Accuracy after pruning but no retraining: 0.8922\n",
      "\n",
      "\n",
      "\n",
      "ROUND 5 Started\n",
      "----------------------\n",
      "Epoch: 1\n"
     ]
    },
    {
     "data": {
      "application/vnd.jupyter.widget-view+json": {
       "model_id": "e919dbb6be26493dab42c6f9225e9171",
       "version_major": 2,
       "version_minor": 0
      },
      "text/plain": [
       "  0%|          | 0/118 [00:00<?, ?it/s]"
      ]
     },
     "metadata": {},
     "output_type": "display_data"
    },
    {
     "name": "stdout",
     "output_type": "stream",
     "text": [
      "Loss: 0.16804963880676335 \tAcc: 0.9356\n",
      "Epoch: 2\n"
     ]
    },
    {
     "data": {
      "application/vnd.jupyter.widget-view+json": {
       "model_id": "6d7d50cc54ea41178a53b225445b1ec2",
       "version_major": 2,
       "version_minor": 0
      },
      "text/plain": [
       "  0%|          | 0/118 [00:00<?, ?it/s]"
      ]
     },
     "metadata": {},
     "output_type": "display_data"
    },
    {
     "name": "stdout",
     "output_type": "stream",
     "text": [
      "Loss: 0.16443552840816772 \tAcc: 0.9366166666666667\n",
      "Epoch: 3\n"
     ]
    },
    {
     "data": {
      "application/vnd.jupyter.widget-view+json": {
       "model_id": "25b1f280c83c4307992baad3cfe9a750",
       "version_major": 2,
       "version_minor": 0
      },
      "text/plain": [
       "  0%|          | 0/118 [00:00<?, ?it/s]"
      ]
     },
     "metadata": {},
     "output_type": "display_data"
    },
    {
     "name": "stdout",
     "output_type": "stream",
     "text": [
      "Loss: 0.16526966573575796 \tAcc: 0.9370333333333334\n",
      "Epoch: 4\n"
     ]
    },
    {
     "data": {
      "application/vnd.jupyter.widget-view+json": {
       "model_id": "fb20356081a24d68b36cb2f6719ae936",
       "version_major": 2,
       "version_minor": 0
      },
      "text/plain": [
       "  0%|          | 0/118 [00:00<?, ?it/s]"
      ]
     },
     "metadata": {},
     "output_type": "display_data"
    },
    {
     "name": "stdout",
     "output_type": "stream",
     "text": [
      "Loss: 0.15095435449127423 \tAcc: 0.9417333333333333\n",
      "Epoch: 5\n"
     ]
    },
    {
     "data": {
      "application/vnd.jupyter.widget-view+json": {
       "model_id": "cfae99331bc94a2290ac22f4d23a5c00",
       "version_major": 2,
       "version_minor": 0
      },
      "text/plain": [
       "  0%|          | 0/118 [00:00<?, ?it/s]"
      ]
     },
     "metadata": {},
     "output_type": "display_data"
    },
    {
     "name": "stdout",
     "output_type": "stream",
     "text": [
      "Loss: 0.15411794633936074 \tAcc: 0.9412\n"
     ]
    },
    {
     "data": {
      "application/vnd.jupyter.widget-view+json": {
       "model_id": "c04e1da00987488d845b6ea840920d2f",
       "version_major": 2,
       "version_minor": 0
      },
      "text/plain": [
       "  0%|          | 0/20 [00:00<?, ?it/s]"
      ]
     },
     "metadata": {},
     "output_type": "display_data"
    },
    {
     "name": "stdout",
     "output_type": "stream",
     "text": [
      "Test Accuracy after pruning and retraining: 0.8901\n"
     ]
    },
    {
     "data": {
      "application/vnd.jupyter.widget-view+json": {
       "model_id": "5142d7f93a634bc09d0f89efa02e03ca",
       "version_major": 2,
       "version_minor": 0
      },
      "text/plain": [
       "  0%|          | 0/20 [00:00<?, ?it/s]"
      ]
     },
     "metadata": {},
     "output_type": "display_data"
    },
    {
     "name": "stdout",
     "output_type": "stream",
     "text": [
      "Test Accuracy after pruning but no retraining: 0.8906\n"
     ]
    }
   ],
   "source": [
    "# Set the number of epochs to be used\n",
    "epochs = 5\n",
    "# Set the number of rounds\n",
    "rounds = 5\n",
    "# Set the sparsity level for each layer\n",
    "sparsity = 0.1\n",
    "# Create the model\n",
    "model = FFN().to(device)\n",
    "# Define Loss\n",
    "loss_function = torch.nn.CrossEntropyLoss()\n",
    "# Define Optimizer\n",
    "optimizer = torch.optim.Adam(model.parameters(), lr=0.003)\n",
    "\n",
    "# First save the model weights that have been initialized\n",
    "init_weights = [model.layers[i].weight.data.to(device) for i in range(len(model.layers))]\n",
    "\n",
    "for round_ in range(rounds):\n",
    "    print(\"\\n\\n\\nROUND\", round_+1, \"Started\\n----------------------\")\n",
    "    # First train the model for some epochs\n",
    "    model, _, _ = train_model(epochs, dataloader_train, device, model, optimizer, loss_function)\n",
    "    if round_ == 0:\n",
    "        print(\"Test Accuracy before pruning:\", test_model(dataloader_val, device, model))\n",
    "    else:\n",
    "        print(\"Test Accuracy after pruning and retraining:\", test_model(dataloader_val, device, model))\n",
    "    with torch.no_grad():\n",
    "        # Now prune the model weights\n",
    "        for i in range(len(model.layers)):\n",
    "            # print(model.layers[i].weight.data.shape)\n",
    "            num_rows = model.layers[i].weight.data.shape[0]\n",
    "            num_cols = model.layers[i].weight.data.shape[1]\n",
    "            # Random pruning\n",
    "#             indices = np.random.randint(0, num_rows*num_cols, num_rows*num_cols)\n",
    "            # Lottery Ticket Style Pruning\n",
    "            indices = torch.argsort(torch.reshape(torch.abs(model.layers[i].weight.data), (1, num_rows*num_cols)).squeeze())\n",
    "            # Since we already have the indices to prune, first reset the parameters\n",
    "            model.layers[i].weight.copy_(init_weights[i])\n",
    "            # Now prune\n",
    "            model.masks[i] = torch.reshape(model.masks[i], (1, num_rows*num_cols)).squeeze()\n",
    "            val = ((sparsity*100)**((round_+1)/rounds))/100\n",
    "            model.masks[i][indices[:math.ceil(val*num_rows*num_cols)]] = 0\n",
    "            model.masks[i] = torch.reshape(torch.reshape(model.masks[i], (1, num_rows*num_cols)).squeeze(), (num_rows, num_cols))\n",
    "    print(\"Test Accuracy after pruning but no retraining:\", test_model(dataloader_val, device, model))"
   ]
  },
  {
   "cell_type": "markdown",
   "id": "648822d7",
   "metadata": {},
   "source": [
    "### Retrain the final model, check Validation Accuracy and print out sparsity statistics"
   ]
  },
  {
   "cell_type": "code",
   "execution_count": 7,
   "id": "04cf8c94",
   "metadata": {
    "scrolled": false
   },
   "outputs": [
    {
     "name": "stdout",
     "output_type": "stream",
     "text": [
      "Epoch: 1\n"
     ]
    },
    {
     "data": {
      "application/vnd.jupyter.widget-view+json": {
       "model_id": "14ca0698c3cc461ab1f2613db65f92e5",
       "version_major": 2,
       "version_minor": 0
      },
      "text/plain": [
       "  0%|          | 0/118 [00:00<?, ?it/s]"
      ]
     },
     "metadata": {},
     "output_type": "display_data"
    },
    {
     "name": "stdout",
     "output_type": "stream",
     "text": [
      "Loss: 0.14417331242712877 \tAcc: 0.94475\n",
      "Epoch: 2\n"
     ]
    },
    {
     "data": {
      "application/vnd.jupyter.widget-view+json": {
       "model_id": "887370d1b88341acb309b0f6e3535e09",
       "version_major": 2,
       "version_minor": 0
      },
      "text/plain": [
       "  0%|          | 0/118 [00:00<?, ?it/s]"
      ]
     },
     "metadata": {},
     "output_type": "display_data"
    },
    {
     "name": "stdout",
     "output_type": "stream",
     "text": [
      "Loss: 0.1416081181900986 \tAcc: 0.9454\n",
      "Epoch: 3\n"
     ]
    },
    {
     "data": {
      "application/vnd.jupyter.widget-view+json": {
       "model_id": "9418d4f8fd7e4b60aa3cdc045a51c980",
       "version_major": 2,
       "version_minor": 0
      },
      "text/plain": [
       "  0%|          | 0/118 [00:00<?, ?it/s]"
      ]
     },
     "metadata": {},
     "output_type": "display_data"
    },
    {
     "name": "stdout",
     "output_type": "stream",
     "text": [
      "Loss: 0.13496292338280355 \tAcc: 0.9483333333333334\n",
      "Epoch: 4\n"
     ]
    },
    {
     "data": {
      "application/vnd.jupyter.widget-view+json": {
       "model_id": "b75300972ca74afda6dabe5d96760d3d",
       "version_major": 2,
       "version_minor": 0
      },
      "text/plain": [
       "  0%|          | 0/118 [00:00<?, ?it/s]"
      ]
     },
     "metadata": {},
     "output_type": "display_data"
    },
    {
     "name": "stdout",
     "output_type": "stream",
     "text": [
      "Loss: 0.1384916141376657 \tAcc: 0.9466833333333333\n",
      "Epoch: 5\n"
     ]
    },
    {
     "data": {
      "application/vnd.jupyter.widget-view+json": {
       "model_id": "37b951adf9de4b9eb9da84a725c38920",
       "version_major": 2,
       "version_minor": 0
      },
      "text/plain": [
       "  0%|          | 0/118 [00:00<?, ?it/s]"
      ]
     },
     "metadata": {},
     "output_type": "display_data"
    },
    {
     "name": "stdout",
     "output_type": "stream",
     "text": [
      "Loss: 0.1343654402989452 \tAcc: 0.9486666666666667\n"
     ]
    },
    {
     "data": {
      "application/vnd.jupyter.widget-view+json": {
       "model_id": "bf41b088c3eb40439ba43f13cfd3cce3",
       "version_major": 2,
       "version_minor": 0
      },
      "text/plain": [
       "  0%|          | 0/20 [00:00<?, ?it/s]"
      ]
     },
     "metadata": {},
     "output_type": "display_data"
    },
    {
     "name": "stdout",
     "output_type": "stream",
     "text": [
      "Final Test Accuracy: 0.89 \n",
      "\n",
      "\n",
      "Total Parameters without pruning: 549504\n",
      "Parameters remaining after pruning: 494552\n",
      "Total Sparsity(%): 10.000291171674819\n",
      "Model compression ratio: 1.1111147058347757\n"
     ]
    }
   ],
   "source": [
    "model, _, _ = train_model(epochs, dataloader_train, device, model, optimizer, loss_function)\n",
    "print(\"Final Test Accuracy:\", test_model(dataloader_val, device, model), \"\\n\\n\")\n",
    "total_sparsity = 0\n",
    "total_params = 0\n",
    "for i in range(len(model.layers)):\n",
    "    total_sparsity+= len(torch.where(model.layers[i].weight.data==0)[0])\n",
    "    total_params+= torch.numel(model.layers[i].weight.data)\n",
    "print(\"Total Parameters without pruning:\", total_params)\n",
    "print(\"Parameters remaining after pruning:\", total_params-total_sparsity)\n",
    "print(\"Total Sparsity(%):\", (total_sparsity/total_params)*100)\n",
    "print(\"Model compression ratio:\", total_params/(total_params-total_sparsity))"
   ]
  },
  {
   "cell_type": "markdown",
   "id": "c9a0f1f6",
   "metadata": {},
   "source": [
    "### Plot a graph of sparsity vs validation accuracy"
   ]
  },
  {
   "cell_type": "code",
   "execution_count": 10,
   "id": "d64c8456",
   "metadata": {},
   "outputs": [
    {
     "data": {
      "image/png": "[encoded data removed]",
      "text/plain": [
       "<Figure size 640x480 with 1 Axes>"
      ]
     },
     "metadata": {},
     "output_type": "display_data"
    }
   ],
   "source": [
    "import matplotlib.pyplot as plt\n",
    "import seaborn as sns\n",
    "\n",
    "sns.lineplot(x=[10, 20, 30, 40, 50], y=[88.78, 88.78, 88.78, 88.78, 88.78], linestyle=\"--\", label=\"Baseline\", color=\"black\")\n",
    "sns.lineplot(x=[10, 20, 30, 40, 50], y=[89.14, 88.70, 89.37, 89.04, 89.00], label=\"Random\")\n",
    "sns.lineplot(x=[10, 20, 30, 40, 50], y=[89.22, 89.01, 89.52, 89.30, 89.26], label=\"LTH\")\n",
    "plt.ylim(87, 90)\n",
    "plt.xlabel(\"Sparsity(%)\")\n",
    "plt.ylabel(\"Validation Accuracy\")\n",
    "sns.despine()"
   ]
  },
  {
   "cell_type": "code",
   "execution_count": null,
   "id": "80d85c83",
   "metadata": {},
   "outputs": [],
   "source": []
  }
 ],
 "metadata": {
  "kernelspec": {
   "display_name": "base",
   "language": "python",
   "name": "python3"
  },
  "language_info": {
   "codemirror_mode": {
    "name": "ipython",
    "version": 3
   },
   "file_extension": ".py",
   "mimetype": "text/x-python",
   "name": "python",
   "nbconvert_exporter": "python",
   "pygments_lexer": "ipython3",
   "version": "3.9.13 (main, Aug 25 2022, 23:26:10) \n[GCC 11.2.0]"
  },
  "vscode": {
   "interpreter": {
    "hash": "480e4e2dbd50c8cd9357d3518c5bb8a1d56e907cf1ff58025a5670ababb40a1b"
   }
  }
 },
 "nbformat": 4,
 "nbformat_minor": 5
}
